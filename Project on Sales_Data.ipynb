{
 "cells": [
  {
   "cell_type": "markdown",
   "id": "dd5e9ec1-a6fb-4940-aa63-87bd22207483",
   "metadata": {},
   "source": [
    "# Title of the project 1: “Sales Data Analysis”"
   ]
  },
  {
   "cell_type": "code",
   "execution_count": 3,
   "id": "127f97b0-de7e-4e50-9691-55c9468256e6",
   "metadata": {},
   "outputs": [],
   "source": [
    "# Import the numerical Python \n",
    "# Numpy is used for performing numerical operations on the different data structures \n",
    "import numpy as np\n",
    "\n",
    "# Import the pandas library\n",
    "# Pandas is used for converting different data structures into pandas dataframe\n",
    "import pandas as pd\n",
    "\n",
    "# Import the seaborn\n",
    "# Seaborn is used to visualize the data structures\n",
    "import seaborn as sns\n",
    "\n",
    "# Import the matplotlib\n",
    "# Matplotlib is the major library utilized for visualization of any data structure\n",
    "import matplotlib.pyplot as plt"
   ]
  },
  {
   "cell_type": "markdown",
   "id": "a73d2520-82ea-4d2b-bb38-f853dad50b35",
   "metadata": {},
   "source": [
    "## Load the Data"
   ]
  },
  {
   "cell_type": "code",
   "execution_count": 6,
   "id": "b43fd700-9a1d-40ad-a93b-7c540fa2315e",
   "metadata": {},
   "outputs": [],
   "source": [
    "df_sales_Data = pd.read_excel(\"C:\\\\Users\\\\HP\\\\Downloads\\\\Sales Data.xlsx\")"
   ]
  },
  {
   "cell_type": "code",
   "execution_count": 7,
   "id": "51de0ac7-5f38-44e1-a763-79713b3ca883",
   "metadata": {},
   "outputs": [
    {
     "data": {
      "text/html": [
       "<div>\n",
       "<style scoped>\n",
       "    .dataframe tbody tr th:only-of-type {\n",
       "        vertical-align: middle;\n",
       "    }\n",
       "\n",
       "    .dataframe tbody tr th {\n",
       "        vertical-align: top;\n",
       "    }\n",
       "\n",
       "    .dataframe thead th {\n",
       "        text-align: right;\n",
       "    }\n",
       "</style>\n",
       "<table border=\"1\" class=\"dataframe\">\n",
       "  <thead>\n",
       "    <tr style=\"text-align: right;\">\n",
       "      <th></th>\n",
       "      <th>Order ID</th>\n",
       "      <th>Product</th>\n",
       "      <th>Quantity Ordered</th>\n",
       "      <th>Price Each</th>\n",
       "      <th>Order Date</th>\n",
       "      <th>Purchase Address</th>\n",
       "      <th>Month</th>\n",
       "      <th>Sales</th>\n",
       "      <th>City</th>\n",
       "      <th>Hour</th>\n",
       "    </tr>\n",
       "  </thead>\n",
       "  <tbody>\n",
       "    <tr>\n",
       "      <th>0</th>\n",
       "      <td>295665</td>\n",
       "      <td>Macbook Pro Laptop</td>\n",
       "      <td>1</td>\n",
       "      <td>1700.00</td>\n",
       "      <td>2019-12-30 00:01:00</td>\n",
       "      <td>136 Church St, New York City, NY 10001</td>\n",
       "      <td>12</td>\n",
       "      <td>1700.00</td>\n",
       "      <td>New York City</td>\n",
       "      <td>0</td>\n",
       "    </tr>\n",
       "    <tr>\n",
       "      <th>1</th>\n",
       "      <td>295666</td>\n",
       "      <td>LG Washing Machine</td>\n",
       "      <td>1</td>\n",
       "      <td>600.00</td>\n",
       "      <td>2019-12-29 07:03:00</td>\n",
       "      <td>562 2nd St, New York City, NY 10001</td>\n",
       "      <td>12</td>\n",
       "      <td>600.00</td>\n",
       "      <td>New York City</td>\n",
       "      <td>7</td>\n",
       "    </tr>\n",
       "    <tr>\n",
       "      <th>2</th>\n",
       "      <td>295667</td>\n",
       "      <td>USB-C Charging Cable</td>\n",
       "      <td>1</td>\n",
       "      <td>11.95</td>\n",
       "      <td>2019-12-12 18:21:00</td>\n",
       "      <td>277 Main St, New York City, NY 10001</td>\n",
       "      <td>12</td>\n",
       "      <td>11.95</td>\n",
       "      <td>New York City</td>\n",
       "      <td>18</td>\n",
       "    </tr>\n",
       "    <tr>\n",
       "      <th>3</th>\n",
       "      <td>295668</td>\n",
       "      <td>27in FHD Monitor</td>\n",
       "      <td>1</td>\n",
       "      <td>149.99</td>\n",
       "      <td>2019-12-22 15:13:00</td>\n",
       "      <td>410 6th St, San Francisco, CA 94016</td>\n",
       "      <td>12</td>\n",
       "      <td>149.99</td>\n",
       "      <td>San Francisco</td>\n",
       "      <td>15</td>\n",
       "    </tr>\n",
       "    <tr>\n",
       "      <th>4</th>\n",
       "      <td>295669</td>\n",
       "      <td>USB-C Charging Cable</td>\n",
       "      <td>1</td>\n",
       "      <td>11.95</td>\n",
       "      <td>2019-12-18 12:38:00</td>\n",
       "      <td>43 Hill St, Atlanta, GA 30301</td>\n",
       "      <td>12</td>\n",
       "      <td>11.95</td>\n",
       "      <td>Atlanta</td>\n",
       "      <td>12</td>\n",
       "    </tr>\n",
       "    <tr>\n",
       "      <th>...</th>\n",
       "      <td>...</td>\n",
       "      <td>...</td>\n",
       "      <td>...</td>\n",
       "      <td>...</td>\n",
       "      <td>...</td>\n",
       "      <td>...</td>\n",
       "      <td>...</td>\n",
       "      <td>...</td>\n",
       "      <td>...</td>\n",
       "      <td>...</td>\n",
       "    </tr>\n",
       "    <tr>\n",
       "      <th>185945</th>\n",
       "      <td>222905</td>\n",
       "      <td>AAA Batteries (4-pack)</td>\n",
       "      <td>1</td>\n",
       "      <td>2.99</td>\n",
       "      <td>2019-06-07 19:02:00</td>\n",
       "      <td>795 Pine St, Boston, MA 02215</td>\n",
       "      <td>6</td>\n",
       "      <td>2.99</td>\n",
       "      <td>Boston</td>\n",
       "      <td>19</td>\n",
       "    </tr>\n",
       "    <tr>\n",
       "      <th>185946</th>\n",
       "      <td>222906</td>\n",
       "      <td>27in FHD Monitor</td>\n",
       "      <td>1</td>\n",
       "      <td>149.99</td>\n",
       "      <td>2019-06-01 19:29:00</td>\n",
       "      <td>495 North St, New York City, NY 10001</td>\n",
       "      <td>6</td>\n",
       "      <td>149.99</td>\n",
       "      <td>New York City</td>\n",
       "      <td>19</td>\n",
       "    </tr>\n",
       "    <tr>\n",
       "      <th>185947</th>\n",
       "      <td>222907</td>\n",
       "      <td>USB-C Charging Cable</td>\n",
       "      <td>1</td>\n",
       "      <td>11.95</td>\n",
       "      <td>2019-06-22 18:57:00</td>\n",
       "      <td>319 Ridge St, San Francisco, CA 94016</td>\n",
       "      <td>6</td>\n",
       "      <td>11.95</td>\n",
       "      <td>San Francisco</td>\n",
       "      <td>18</td>\n",
       "    </tr>\n",
       "    <tr>\n",
       "      <th>185948</th>\n",
       "      <td>222908</td>\n",
       "      <td>USB-C Charging Cable</td>\n",
       "      <td>1</td>\n",
       "      <td>11.95</td>\n",
       "      <td>2019-06-26 18:35:00</td>\n",
       "      <td>916 Main St, San Francisco, CA 94016</td>\n",
       "      <td>6</td>\n",
       "      <td>11.95</td>\n",
       "      <td>San Francisco</td>\n",
       "      <td>18</td>\n",
       "    </tr>\n",
       "    <tr>\n",
       "      <th>185949</th>\n",
       "      <td>222909</td>\n",
       "      <td>AAA Batteries (4-pack)</td>\n",
       "      <td>1</td>\n",
       "      <td>2.99</td>\n",
       "      <td>2019-06-25 14:33:00</td>\n",
       "      <td>209 11th St, Atlanta, GA 30301</td>\n",
       "      <td>6</td>\n",
       "      <td>2.99</td>\n",
       "      <td>Atlanta</td>\n",
       "      <td>14</td>\n",
       "    </tr>\n",
       "  </tbody>\n",
       "</table>\n",
       "<p>185950 rows × 10 columns</p>\n",
       "</div>"
      ],
      "text/plain": [
       "        Order ID                 Product  Quantity Ordered  Price Each  \\\n",
       "0         295665      Macbook Pro Laptop                 1     1700.00   \n",
       "1         295666      LG Washing Machine                 1      600.00   \n",
       "2         295667    USB-C Charging Cable                 1       11.95   \n",
       "3         295668        27in FHD Monitor                 1      149.99   \n",
       "4         295669    USB-C Charging Cable                 1       11.95   \n",
       "...          ...                     ...               ...         ...   \n",
       "185945    222905  AAA Batteries (4-pack)                 1        2.99   \n",
       "185946    222906        27in FHD Monitor                 1      149.99   \n",
       "185947    222907    USB-C Charging Cable                 1       11.95   \n",
       "185948    222908    USB-C Charging Cable                 1       11.95   \n",
       "185949    222909  AAA Batteries (4-pack)                 1        2.99   \n",
       "\n",
       "                Order Date                        Purchase Address  Month  \\\n",
       "0      2019-12-30 00:01:00  136 Church St, New York City, NY 10001     12   \n",
       "1      2019-12-29 07:03:00     562 2nd St, New York City, NY 10001     12   \n",
       "2      2019-12-12 18:21:00    277 Main St, New York City, NY 10001     12   \n",
       "3      2019-12-22 15:13:00     410 6th St, San Francisco, CA 94016     12   \n",
       "4      2019-12-18 12:38:00           43 Hill St, Atlanta, GA 30301     12   \n",
       "...                    ...                                     ...    ...   \n",
       "185945 2019-06-07 19:02:00           795 Pine St, Boston, MA 02215      6   \n",
       "185946 2019-06-01 19:29:00   495 North St, New York City, NY 10001      6   \n",
       "185947 2019-06-22 18:57:00   319 Ridge St, San Francisco, CA 94016      6   \n",
       "185948 2019-06-26 18:35:00    916 Main St, San Francisco, CA 94016      6   \n",
       "185949 2019-06-25 14:33:00          209 11th St, Atlanta, GA 30301      6   \n",
       "\n",
       "          Sales            City  Hour  \n",
       "0       1700.00   New York City     0  \n",
       "1        600.00   New York City     7  \n",
       "2         11.95   New York City    18  \n",
       "3        149.99   San Francisco    15  \n",
       "4         11.95         Atlanta    12  \n",
       "...         ...             ...   ...  \n",
       "185945     2.99          Boston    19  \n",
       "185946   149.99   New York City    19  \n",
       "185947    11.95   San Francisco    18  \n",
       "185948    11.95   San Francisco    18  \n",
       "185949     2.99         Atlanta    14  \n",
       "\n",
       "[185950 rows x 10 columns]"
      ]
     },
     "execution_count": 7,
     "metadata": {},
     "output_type": "execute_result"
    }
   ],
   "source": [
    "df_sales_Data"
   ]
  },
  {
   "cell_type": "markdown",
   "id": "0f522b8e-e67b-42ed-ba57-0b3e4ebc9553",
   "metadata": {},
   "source": [
    "## Data overview"
   ]
  },
  {
   "cell_type": "code",
   "execution_count": 8,
   "id": "182e657f-19a4-48f9-8158-b04272f2f200",
   "metadata": {},
   "outputs": [
    {
     "name": "stdout",
     "output_type": "stream",
     "text": [
      "<class 'pandas.core.frame.DataFrame'>\n",
      "RangeIndex: 185950 entries, 0 to 185949\n",
      "Data columns (total 10 columns):\n",
      " #   Column            Non-Null Count   Dtype         \n",
      "---  ------            --------------   -----         \n",
      " 0   Order ID          185950 non-null  int64         \n",
      " 1   Product           185950 non-null  object        \n",
      " 2   Quantity Ordered  185950 non-null  int64         \n",
      " 3   Price Each        185950 non-null  float64       \n",
      " 4   Order Date        185950 non-null  datetime64[ns]\n",
      " 5   Purchase Address  185950 non-null  object        \n",
      " 6   Month             185950 non-null  int64         \n",
      " 7   Sales             185950 non-null  float64       \n",
      " 8   City              185950 non-null  object        \n",
      " 9   Hour              185950 non-null  int64         \n",
      "dtypes: datetime64[ns](1), float64(2), int64(4), object(3)\n",
      "memory usage: 14.2+ MB\n"
     ]
    }
   ],
   "source": [
    "df_sales_Data.info()"
   ]
  },
  {
   "cell_type": "code",
   "execution_count": 9,
   "id": "189ebc81-3b2d-4c09-8add-42248cc881f0",
   "metadata": {},
   "outputs": [
    {
     "data": {
      "text/html": [
       "<div>\n",
       "<style scoped>\n",
       "    .dataframe tbody tr th:only-of-type {\n",
       "        vertical-align: middle;\n",
       "    }\n",
       "\n",
       "    .dataframe tbody tr th {\n",
       "        vertical-align: top;\n",
       "    }\n",
       "\n",
       "    .dataframe thead th {\n",
       "        text-align: right;\n",
       "    }\n",
       "</style>\n",
       "<table border=\"1\" class=\"dataframe\">\n",
       "  <thead>\n",
       "    <tr style=\"text-align: right;\">\n",
       "      <th></th>\n",
       "      <th>count</th>\n",
       "      <th>mean</th>\n",
       "      <th>min</th>\n",
       "      <th>25%</th>\n",
       "      <th>50%</th>\n",
       "      <th>75%</th>\n",
       "      <th>max</th>\n",
       "      <th>std</th>\n",
       "    </tr>\n",
       "  </thead>\n",
       "  <tbody>\n",
       "    <tr>\n",
       "      <th>Order ID</th>\n",
       "      <td>185950.0</td>\n",
       "      <td>230417.569379</td>\n",
       "      <td>141234.0</td>\n",
       "      <td>185831.25</td>\n",
       "      <td>230367.5</td>\n",
       "      <td>275035.75</td>\n",
       "      <td>319670.0</td>\n",
       "      <td>51512.73711</td>\n",
       "    </tr>\n",
       "    <tr>\n",
       "      <th>Quantity Ordered</th>\n",
       "      <td>185950.0</td>\n",
       "      <td>1.124383</td>\n",
       "      <td>1.0</td>\n",
       "      <td>1.0</td>\n",
       "      <td>1.0</td>\n",
       "      <td>1.0</td>\n",
       "      <td>9.0</td>\n",
       "      <td>0.442793</td>\n",
       "    </tr>\n",
       "    <tr>\n",
       "      <th>Price Each</th>\n",
       "      <td>185950.0</td>\n",
       "      <td>184.399735</td>\n",
       "      <td>2.99</td>\n",
       "      <td>11.95</td>\n",
       "      <td>14.95</td>\n",
       "      <td>150.0</td>\n",
       "      <td>1700.0</td>\n",
       "      <td>332.73133</td>\n",
       "    </tr>\n",
       "    <tr>\n",
       "      <th>Order Date</th>\n",
       "      <td>185950</td>\n",
       "      <td>2019-07-18 21:54:38.887550464</td>\n",
       "      <td>2019-01-01 03:07:00</td>\n",
       "      <td>2019-04-16 21:05:15</td>\n",
       "      <td>2019-07-17 20:40:30</td>\n",
       "      <td>2019-10-26 08:14:00</td>\n",
       "      <td>2020-01-01 05:13:00</td>\n",
       "      <td>NaN</td>\n",
       "    </tr>\n",
       "    <tr>\n",
       "      <th>Month</th>\n",
       "      <td>185950.0</td>\n",
       "      <td>7.05914</td>\n",
       "      <td>1.0</td>\n",
       "      <td>4.0</td>\n",
       "      <td>7.0</td>\n",
       "      <td>10.0</td>\n",
       "      <td>12.0</td>\n",
       "      <td>3.502996</td>\n",
       "    </tr>\n",
       "    <tr>\n",
       "      <th>Sales</th>\n",
       "      <td>185950.0</td>\n",
       "      <td>185.490917</td>\n",
       "      <td>2.99</td>\n",
       "      <td>11.95</td>\n",
       "      <td>14.95</td>\n",
       "      <td>150.0</td>\n",
       "      <td>3400.0</td>\n",
       "      <td>332.919771</td>\n",
       "    </tr>\n",
       "    <tr>\n",
       "      <th>Hour</th>\n",
       "      <td>185950.0</td>\n",
       "      <td>14.413305</td>\n",
       "      <td>0.0</td>\n",
       "      <td>11.0</td>\n",
       "      <td>15.0</td>\n",
       "      <td>19.0</td>\n",
       "      <td>23.0</td>\n",
       "      <td>5.423416</td>\n",
       "    </tr>\n",
       "  </tbody>\n",
       "</table>\n",
       "</div>"
      ],
      "text/plain": [
       "                     count                           mean  \\\n",
       "Order ID          185950.0                  230417.569379   \n",
       "Quantity Ordered  185950.0                       1.124383   \n",
       "Price Each        185950.0                     184.399735   \n",
       "Order Date          185950  2019-07-18 21:54:38.887550464   \n",
       "Month             185950.0                        7.05914   \n",
       "Sales             185950.0                     185.490917   \n",
       "Hour              185950.0                      14.413305   \n",
       "\n",
       "                                  min                  25%  \\\n",
       "Order ID                     141234.0            185831.25   \n",
       "Quantity Ordered                  1.0                  1.0   \n",
       "Price Each                       2.99                11.95   \n",
       "Order Date        2019-01-01 03:07:00  2019-04-16 21:05:15   \n",
       "Month                             1.0                  4.0   \n",
       "Sales                            2.99                11.95   \n",
       "Hour                              0.0                 11.0   \n",
       "\n",
       "                                  50%                  75%  \\\n",
       "Order ID                     230367.5            275035.75   \n",
       "Quantity Ordered                  1.0                  1.0   \n",
       "Price Each                      14.95                150.0   \n",
       "Order Date        2019-07-17 20:40:30  2019-10-26 08:14:00   \n",
       "Month                             7.0                 10.0   \n",
       "Sales                           14.95                150.0   \n",
       "Hour                             15.0                 19.0   \n",
       "\n",
       "                                  max          std  \n",
       "Order ID                     319670.0  51512.73711  \n",
       "Quantity Ordered                  9.0     0.442793  \n",
       "Price Each                     1700.0    332.73133  \n",
       "Order Date        2020-01-01 05:13:00          NaN  \n",
       "Month                            12.0     3.502996  \n",
       "Sales                          3400.0   332.919771  \n",
       "Hour                             23.0     5.423416  "
      ]
     },
     "execution_count": 9,
     "metadata": {},
     "output_type": "execute_result"
    }
   ],
   "source": [
    "df_sales_Data.describe().T"
   ]
  },
  {
   "cell_type": "code",
   "execution_count": 10,
   "id": "4ea21bb3-2648-4885-be1c-434a529dba79",
   "metadata": {},
   "outputs": [
    {
     "data": {
      "text/html": [
       "<div>\n",
       "<style scoped>\n",
       "    .dataframe tbody tr th:only-of-type {\n",
       "        vertical-align: middle;\n",
       "    }\n",
       "\n",
       "    .dataframe tbody tr th {\n",
       "        vertical-align: top;\n",
       "    }\n",
       "\n",
       "    .dataframe thead th {\n",
       "        text-align: right;\n",
       "    }\n",
       "</style>\n",
       "<table border=\"1\" class=\"dataframe\">\n",
       "  <thead>\n",
       "    <tr style=\"text-align: right;\">\n",
       "      <th></th>\n",
       "      <th>Order ID</th>\n",
       "      <th>Product</th>\n",
       "      <th>Quantity Ordered</th>\n",
       "      <th>Price Each</th>\n",
       "      <th>Order Date</th>\n",
       "      <th>Purchase Address</th>\n",
       "      <th>Month</th>\n",
       "      <th>Sales</th>\n",
       "      <th>City</th>\n",
       "      <th>Hour</th>\n",
       "    </tr>\n",
       "  </thead>\n",
       "  <tbody>\n",
       "    <tr>\n",
       "      <th>0</th>\n",
       "      <td>295665</td>\n",
       "      <td>Macbook Pro Laptop</td>\n",
       "      <td>1</td>\n",
       "      <td>1700.00</td>\n",
       "      <td>2019-12-30 00:01:00</td>\n",
       "      <td>136 Church St, New York City, NY 10001</td>\n",
       "      <td>12</td>\n",
       "      <td>1700.00</td>\n",
       "      <td>New York City</td>\n",
       "      <td>0</td>\n",
       "    </tr>\n",
       "    <tr>\n",
       "      <th>1</th>\n",
       "      <td>295666</td>\n",
       "      <td>LG Washing Machine</td>\n",
       "      <td>1</td>\n",
       "      <td>600.00</td>\n",
       "      <td>2019-12-29 07:03:00</td>\n",
       "      <td>562 2nd St, New York City, NY 10001</td>\n",
       "      <td>12</td>\n",
       "      <td>600.00</td>\n",
       "      <td>New York City</td>\n",
       "      <td>7</td>\n",
       "    </tr>\n",
       "    <tr>\n",
       "      <th>2</th>\n",
       "      <td>295667</td>\n",
       "      <td>USB-C Charging Cable</td>\n",
       "      <td>1</td>\n",
       "      <td>11.95</td>\n",
       "      <td>2019-12-12 18:21:00</td>\n",
       "      <td>277 Main St, New York City, NY 10001</td>\n",
       "      <td>12</td>\n",
       "      <td>11.95</td>\n",
       "      <td>New York City</td>\n",
       "      <td>18</td>\n",
       "    </tr>\n",
       "    <tr>\n",
       "      <th>3</th>\n",
       "      <td>295668</td>\n",
       "      <td>27in FHD Monitor</td>\n",
       "      <td>1</td>\n",
       "      <td>149.99</td>\n",
       "      <td>2019-12-22 15:13:00</td>\n",
       "      <td>410 6th St, San Francisco, CA 94016</td>\n",
       "      <td>12</td>\n",
       "      <td>149.99</td>\n",
       "      <td>San Francisco</td>\n",
       "      <td>15</td>\n",
       "    </tr>\n",
       "    <tr>\n",
       "      <th>4</th>\n",
       "      <td>295669</td>\n",
       "      <td>USB-C Charging Cable</td>\n",
       "      <td>1</td>\n",
       "      <td>11.95</td>\n",
       "      <td>2019-12-18 12:38:00</td>\n",
       "      <td>43 Hill St, Atlanta, GA 30301</td>\n",
       "      <td>12</td>\n",
       "      <td>11.95</td>\n",
       "      <td>Atlanta</td>\n",
       "      <td>12</td>\n",
       "    </tr>\n",
       "  </tbody>\n",
       "</table>\n",
       "</div>"
      ],
      "text/plain": [
       "   Order ID               Product  Quantity Ordered  Price Each  \\\n",
       "0    295665    Macbook Pro Laptop                 1     1700.00   \n",
       "1    295666    LG Washing Machine                 1      600.00   \n",
       "2    295667  USB-C Charging Cable                 1       11.95   \n",
       "3    295668      27in FHD Monitor                 1      149.99   \n",
       "4    295669  USB-C Charging Cable                 1       11.95   \n",
       "\n",
       "           Order Date                        Purchase Address  Month    Sales  \\\n",
       "0 2019-12-30 00:01:00  136 Church St, New York City, NY 10001     12  1700.00   \n",
       "1 2019-12-29 07:03:00     562 2nd St, New York City, NY 10001     12   600.00   \n",
       "2 2019-12-12 18:21:00    277 Main St, New York City, NY 10001     12    11.95   \n",
       "3 2019-12-22 15:13:00     410 6th St, San Francisco, CA 94016     12   149.99   \n",
       "4 2019-12-18 12:38:00           43 Hill St, Atlanta, GA 30301     12    11.95   \n",
       "\n",
       "             City  Hour  \n",
       "0   New York City     0  \n",
       "1   New York City     7  \n",
       "2   New York City    18  \n",
       "3   San Francisco    15  \n",
       "4         Atlanta    12  "
      ]
     },
     "execution_count": 10,
     "metadata": {},
     "output_type": "execute_result"
    }
   ],
   "source": [
    "# Show the first 5 observation(row) of the data\n",
    "df_sales_Data.head()"
   ]
  },
  {
   "cell_type": "code",
   "execution_count": 11,
   "id": "e36f5848-570d-4254-9adb-76fea7fc0a38",
   "metadata": {},
   "outputs": [
    {
     "data": {
      "text/html": [
       "<div>\n",
       "<style scoped>\n",
       "    .dataframe tbody tr th:only-of-type {\n",
       "        vertical-align: middle;\n",
       "    }\n",
       "\n",
       "    .dataframe tbody tr th {\n",
       "        vertical-align: top;\n",
       "    }\n",
       "\n",
       "    .dataframe thead th {\n",
       "        text-align: right;\n",
       "    }\n",
       "</style>\n",
       "<table border=\"1\" class=\"dataframe\">\n",
       "  <thead>\n",
       "    <tr style=\"text-align: right;\">\n",
       "      <th></th>\n",
       "      <th>Order ID</th>\n",
       "      <th>Product</th>\n",
       "      <th>Quantity Ordered</th>\n",
       "      <th>Price Each</th>\n",
       "      <th>Order Date</th>\n",
       "      <th>Purchase Address</th>\n",
       "      <th>Month</th>\n",
       "      <th>Sales</th>\n",
       "      <th>City</th>\n",
       "      <th>Hour</th>\n",
       "    </tr>\n",
       "  </thead>\n",
       "  <tbody>\n",
       "    <tr>\n",
       "      <th>185945</th>\n",
       "      <td>222905</td>\n",
       "      <td>AAA Batteries (4-pack)</td>\n",
       "      <td>1</td>\n",
       "      <td>2.99</td>\n",
       "      <td>2019-06-07 19:02:00</td>\n",
       "      <td>795 Pine St, Boston, MA 02215</td>\n",
       "      <td>6</td>\n",
       "      <td>2.99</td>\n",
       "      <td>Boston</td>\n",
       "      <td>19</td>\n",
       "    </tr>\n",
       "    <tr>\n",
       "      <th>185946</th>\n",
       "      <td>222906</td>\n",
       "      <td>27in FHD Monitor</td>\n",
       "      <td>1</td>\n",
       "      <td>149.99</td>\n",
       "      <td>2019-06-01 19:29:00</td>\n",
       "      <td>495 North St, New York City, NY 10001</td>\n",
       "      <td>6</td>\n",
       "      <td>149.99</td>\n",
       "      <td>New York City</td>\n",
       "      <td>19</td>\n",
       "    </tr>\n",
       "    <tr>\n",
       "      <th>185947</th>\n",
       "      <td>222907</td>\n",
       "      <td>USB-C Charging Cable</td>\n",
       "      <td>1</td>\n",
       "      <td>11.95</td>\n",
       "      <td>2019-06-22 18:57:00</td>\n",
       "      <td>319 Ridge St, San Francisco, CA 94016</td>\n",
       "      <td>6</td>\n",
       "      <td>11.95</td>\n",
       "      <td>San Francisco</td>\n",
       "      <td>18</td>\n",
       "    </tr>\n",
       "    <tr>\n",
       "      <th>185948</th>\n",
       "      <td>222908</td>\n",
       "      <td>USB-C Charging Cable</td>\n",
       "      <td>1</td>\n",
       "      <td>11.95</td>\n",
       "      <td>2019-06-26 18:35:00</td>\n",
       "      <td>916 Main St, San Francisco, CA 94016</td>\n",
       "      <td>6</td>\n",
       "      <td>11.95</td>\n",
       "      <td>San Francisco</td>\n",
       "      <td>18</td>\n",
       "    </tr>\n",
       "    <tr>\n",
       "      <th>185949</th>\n",
       "      <td>222909</td>\n",
       "      <td>AAA Batteries (4-pack)</td>\n",
       "      <td>1</td>\n",
       "      <td>2.99</td>\n",
       "      <td>2019-06-25 14:33:00</td>\n",
       "      <td>209 11th St, Atlanta, GA 30301</td>\n",
       "      <td>6</td>\n",
       "      <td>2.99</td>\n",
       "      <td>Atlanta</td>\n",
       "      <td>14</td>\n",
       "    </tr>\n",
       "  </tbody>\n",
       "</table>\n",
       "</div>"
      ],
      "text/plain": [
       "        Order ID                 Product  Quantity Ordered  Price Each  \\\n",
       "185945    222905  AAA Batteries (4-pack)                 1        2.99   \n",
       "185946    222906        27in FHD Monitor                 1      149.99   \n",
       "185947    222907    USB-C Charging Cable                 1       11.95   \n",
       "185948    222908    USB-C Charging Cable                 1       11.95   \n",
       "185949    222909  AAA Batteries (4-pack)                 1        2.99   \n",
       "\n",
       "                Order Date                       Purchase Address  Month  \\\n",
       "185945 2019-06-07 19:02:00          795 Pine St, Boston, MA 02215      6   \n",
       "185946 2019-06-01 19:29:00  495 North St, New York City, NY 10001      6   \n",
       "185947 2019-06-22 18:57:00  319 Ridge St, San Francisco, CA 94016      6   \n",
       "185948 2019-06-26 18:35:00   916 Main St, San Francisco, CA 94016      6   \n",
       "185949 2019-06-25 14:33:00         209 11th St, Atlanta, GA 30301      6   \n",
       "\n",
       "         Sales            City  Hour  \n",
       "185945    2.99          Boston    19  \n",
       "185946  149.99   New York City    19  \n",
       "185947   11.95   San Francisco    18  \n",
       "185948   11.95   San Francisco    18  \n",
       "185949    2.99         Atlanta    14  "
      ]
     },
     "execution_count": 11,
     "metadata": {},
     "output_type": "execute_result"
    }
   ],
   "source": [
    "# Show me the last 5 observation\n",
    "df_sales_Data.tail()"
   ]
  },
  {
   "cell_type": "markdown",
   "id": "5aad2a8b-d903-4b91-9a57-ecfbd3fd4224",
   "metadata": {},
   "source": [
    "#### Check the shape of the data"
   ]
  },
  {
   "cell_type": "code",
   "execution_count": 12,
   "id": "c08394f6-8b0c-4095-b717-811d346070ab",
   "metadata": {},
   "outputs": [
    {
     "data": {
      "text/plain": [
       "(185950, 10)"
      ]
     },
     "execution_count": 12,
     "metadata": {},
     "output_type": "execute_result"
    }
   ],
   "source": [
    "df_sales_Data.shape"
   ]
  },
  {
   "cell_type": "markdown",
   "id": "cd6971eb-14bb-4c3d-9855-8fb914d7354b",
   "metadata": {},
   "source": [
    "## Data Preprocessing"
   ]
  },
  {
   "cell_type": "markdown",
   "id": "baf634ab-75b3-4dfb-a0ad-54f1d5bf42b4",
   "metadata": {},
   "source": [
    "#### Data Cleaning"
   ]
  },
  {
   "cell_type": "code",
   "execution_count": 13,
   "id": "34e7508b-7a93-472e-b8fe-1b5f9b357ea4",
   "metadata": {},
   "outputs": [
    {
     "data": {
      "text/plain": [
       "Order ID            0\n",
       "Product             0\n",
       "Quantity Ordered    0\n",
       "Price Each          0\n",
       "Order Date          0\n",
       "Purchase Address    0\n",
       "Month               0\n",
       "Sales               0\n",
       "City                0\n",
       "Hour                0\n",
       "dtype: int64"
      ]
     },
     "execution_count": 13,
     "metadata": {},
     "output_type": "execute_result"
    }
   ],
   "source": [
    "# check missing values\n",
    "df_sales_Data.isnull().sum()"
   ]
  },
  {
   "cell_type": "code",
   "execution_count": 14,
   "id": "6ac76379-9c6e-486e-a67b-87c23a53a5fe",
   "metadata": {},
   "outputs": [
    {
     "data": {
      "text/plain": [
       "Order ID            0.0\n",
       "Product             0.0\n",
       "Quantity Ordered    0.0\n",
       "Price Each          0.0\n",
       "Order Date          0.0\n",
       "Purchase Address    0.0\n",
       "Month               0.0\n",
       "Sales               0.0\n",
       "City                0.0\n",
       "Hour                0.0\n",
       "dtype: float64"
      ]
     },
     "execution_count": 14,
     "metadata": {},
     "output_type": "execute_result"
    }
   ],
   "source": [
    "# Show the percentage of missing records\n",
    "df_sales_Data.isnull().sum()/len(df_sales_Data)*100"
   ]
  },
  {
   "cell_type": "code",
   "execution_count": 15,
   "id": "e09ce037-d2a8-4628-91bc-6a9712488ce9",
   "metadata": {},
   "outputs": [
    {
     "data": {
      "text/plain": [
       "0    160873\n",
       "Name: Order ID, dtype: int64"
      ]
     },
     "execution_count": 15,
     "metadata": {},
     "output_type": "execute_result"
    }
   ],
   "source": [
    "#  step to find the mode \n",
    "df_sales_Data['Order ID'].mode()"
   ]
  },
  {
   "cell_type": "code",
   "execution_count": 16,
   "id": "25f29811-b5a7-41d4-9b9a-351a146b3503",
   "metadata": {},
   "outputs": [
    {
     "data": {
      "text/plain": [
       "0         295665\n",
       "1         295666\n",
       "2         295667\n",
       "3         295668\n",
       "4         295669\n",
       "           ...  \n",
       "185945    222905\n",
       "185946    222906\n",
       "185947    222907\n",
       "185948    222908\n",
       "185949    222909\n",
       "Name: Order ID, Length: 185950, dtype: int64"
      ]
     },
     "execution_count": 16,
     "metadata": {},
     "output_type": "execute_result"
    }
   ],
   "source": [
    "# step replce null value\n",
    "df_sales_Data['Order ID'].fillna('True')"
   ]
  },
  {
   "cell_type": "markdown",
   "id": "5acb39c4-ff8c-434e-ab08-050cd2f062c7",
   "metadata": {},
   "source": [
    "### Remove Duplicates"
   ]
  },
  {
   "cell_type": "code",
   "execution_count": 17,
   "id": "f270e40b-4896-49b6-949d-3ec9131772a5",
   "metadata": {},
   "outputs": [
    {
     "data": {
      "text/html": [
       "<div>\n",
       "<style scoped>\n",
       "    .dataframe tbody tr th:only-of-type {\n",
       "        vertical-align: middle;\n",
       "    }\n",
       "\n",
       "    .dataframe tbody tr th {\n",
       "        vertical-align: top;\n",
       "    }\n",
       "\n",
       "    .dataframe thead th {\n",
       "        text-align: right;\n",
       "    }\n",
       "</style>\n",
       "<table border=\"1\" class=\"dataframe\">\n",
       "  <thead>\n",
       "    <tr style=\"text-align: right;\">\n",
       "      <th></th>\n",
       "      <th>Order ID</th>\n",
       "      <th>Product</th>\n",
       "      <th>Quantity Ordered</th>\n",
       "      <th>Price Each</th>\n",
       "      <th>Order Date</th>\n",
       "      <th>Purchase Address</th>\n",
       "      <th>Month</th>\n",
       "      <th>Sales</th>\n",
       "      <th>City</th>\n",
       "      <th>Hour</th>\n",
       "    </tr>\n",
       "  </thead>\n",
       "  <tbody>\n",
       "    <tr>\n",
       "      <th>0</th>\n",
       "      <td>295665</td>\n",
       "      <td>Macbook Pro Laptop</td>\n",
       "      <td>1</td>\n",
       "      <td>1700.00</td>\n",
       "      <td>2019-12-30 00:01:00</td>\n",
       "      <td>136 Church St, New York City, NY 10001</td>\n",
       "      <td>12</td>\n",
       "      <td>1700.00</td>\n",
       "      <td>New York City</td>\n",
       "      <td>0</td>\n",
       "    </tr>\n",
       "    <tr>\n",
       "      <th>1</th>\n",
       "      <td>295666</td>\n",
       "      <td>LG Washing Machine</td>\n",
       "      <td>1</td>\n",
       "      <td>600.00</td>\n",
       "      <td>2019-12-29 07:03:00</td>\n",
       "      <td>562 2nd St, New York City, NY 10001</td>\n",
       "      <td>12</td>\n",
       "      <td>600.00</td>\n",
       "      <td>New York City</td>\n",
       "      <td>7</td>\n",
       "    </tr>\n",
       "    <tr>\n",
       "      <th>2</th>\n",
       "      <td>295667</td>\n",
       "      <td>USB-C Charging Cable</td>\n",
       "      <td>1</td>\n",
       "      <td>11.95</td>\n",
       "      <td>2019-12-12 18:21:00</td>\n",
       "      <td>277 Main St, New York City, NY 10001</td>\n",
       "      <td>12</td>\n",
       "      <td>11.95</td>\n",
       "      <td>New York City</td>\n",
       "      <td>18</td>\n",
       "    </tr>\n",
       "    <tr>\n",
       "      <th>3</th>\n",
       "      <td>295668</td>\n",
       "      <td>27in FHD Monitor</td>\n",
       "      <td>1</td>\n",
       "      <td>149.99</td>\n",
       "      <td>2019-12-22 15:13:00</td>\n",
       "      <td>410 6th St, San Francisco, CA 94016</td>\n",
       "      <td>12</td>\n",
       "      <td>149.99</td>\n",
       "      <td>San Francisco</td>\n",
       "      <td>15</td>\n",
       "    </tr>\n",
       "    <tr>\n",
       "      <th>4</th>\n",
       "      <td>295669</td>\n",
       "      <td>USB-C Charging Cable</td>\n",
       "      <td>1</td>\n",
       "      <td>11.95</td>\n",
       "      <td>2019-12-18 12:38:00</td>\n",
       "      <td>43 Hill St, Atlanta, GA 30301</td>\n",
       "      <td>12</td>\n",
       "      <td>11.95</td>\n",
       "      <td>Atlanta</td>\n",
       "      <td>12</td>\n",
       "    </tr>\n",
       "    <tr>\n",
       "      <th>...</th>\n",
       "      <td>...</td>\n",
       "      <td>...</td>\n",
       "      <td>...</td>\n",
       "      <td>...</td>\n",
       "      <td>...</td>\n",
       "      <td>...</td>\n",
       "      <td>...</td>\n",
       "      <td>...</td>\n",
       "      <td>...</td>\n",
       "      <td>...</td>\n",
       "    </tr>\n",
       "    <tr>\n",
       "      <th>185945</th>\n",
       "      <td>222905</td>\n",
       "      <td>AAA Batteries (4-pack)</td>\n",
       "      <td>1</td>\n",
       "      <td>2.99</td>\n",
       "      <td>2019-06-07 19:02:00</td>\n",
       "      <td>795 Pine St, Boston, MA 02215</td>\n",
       "      <td>6</td>\n",
       "      <td>2.99</td>\n",
       "      <td>Boston</td>\n",
       "      <td>19</td>\n",
       "    </tr>\n",
       "    <tr>\n",
       "      <th>185946</th>\n",
       "      <td>222906</td>\n",
       "      <td>27in FHD Monitor</td>\n",
       "      <td>1</td>\n",
       "      <td>149.99</td>\n",
       "      <td>2019-06-01 19:29:00</td>\n",
       "      <td>495 North St, New York City, NY 10001</td>\n",
       "      <td>6</td>\n",
       "      <td>149.99</td>\n",
       "      <td>New York City</td>\n",
       "      <td>19</td>\n",
       "    </tr>\n",
       "    <tr>\n",
       "      <th>185947</th>\n",
       "      <td>222907</td>\n",
       "      <td>USB-C Charging Cable</td>\n",
       "      <td>1</td>\n",
       "      <td>11.95</td>\n",
       "      <td>2019-06-22 18:57:00</td>\n",
       "      <td>319 Ridge St, San Francisco, CA 94016</td>\n",
       "      <td>6</td>\n",
       "      <td>11.95</td>\n",
       "      <td>San Francisco</td>\n",
       "      <td>18</td>\n",
       "    </tr>\n",
       "    <tr>\n",
       "      <th>185948</th>\n",
       "      <td>222908</td>\n",
       "      <td>USB-C Charging Cable</td>\n",
       "      <td>1</td>\n",
       "      <td>11.95</td>\n",
       "      <td>2019-06-26 18:35:00</td>\n",
       "      <td>916 Main St, San Francisco, CA 94016</td>\n",
       "      <td>6</td>\n",
       "      <td>11.95</td>\n",
       "      <td>San Francisco</td>\n",
       "      <td>18</td>\n",
       "    </tr>\n",
       "    <tr>\n",
       "      <th>185949</th>\n",
       "      <td>222909</td>\n",
       "      <td>AAA Batteries (4-pack)</td>\n",
       "      <td>1</td>\n",
       "      <td>2.99</td>\n",
       "      <td>2019-06-25 14:33:00</td>\n",
       "      <td>209 11th St, Atlanta, GA 30301</td>\n",
       "      <td>6</td>\n",
       "      <td>2.99</td>\n",
       "      <td>Atlanta</td>\n",
       "      <td>14</td>\n",
       "    </tr>\n",
       "  </tbody>\n",
       "</table>\n",
       "<p>185686 rows × 10 columns</p>\n",
       "</div>"
      ],
      "text/plain": [
       "        Order ID                 Product  Quantity Ordered  Price Each  \\\n",
       "0         295665      Macbook Pro Laptop                 1     1700.00   \n",
       "1         295666      LG Washing Machine                 1      600.00   \n",
       "2         295667    USB-C Charging Cable                 1       11.95   \n",
       "3         295668        27in FHD Monitor                 1      149.99   \n",
       "4         295669    USB-C Charging Cable                 1       11.95   \n",
       "...          ...                     ...               ...         ...   \n",
       "185945    222905  AAA Batteries (4-pack)                 1        2.99   \n",
       "185946    222906        27in FHD Monitor                 1      149.99   \n",
       "185947    222907    USB-C Charging Cable                 1       11.95   \n",
       "185948    222908    USB-C Charging Cable                 1       11.95   \n",
       "185949    222909  AAA Batteries (4-pack)                 1        2.99   \n",
       "\n",
       "                Order Date                        Purchase Address  Month  \\\n",
       "0      2019-12-30 00:01:00  136 Church St, New York City, NY 10001     12   \n",
       "1      2019-12-29 07:03:00     562 2nd St, New York City, NY 10001     12   \n",
       "2      2019-12-12 18:21:00    277 Main St, New York City, NY 10001     12   \n",
       "3      2019-12-22 15:13:00     410 6th St, San Francisco, CA 94016     12   \n",
       "4      2019-12-18 12:38:00           43 Hill St, Atlanta, GA 30301     12   \n",
       "...                    ...                                     ...    ...   \n",
       "185945 2019-06-07 19:02:00           795 Pine St, Boston, MA 02215      6   \n",
       "185946 2019-06-01 19:29:00   495 North St, New York City, NY 10001      6   \n",
       "185947 2019-06-22 18:57:00   319 Ridge St, San Francisco, CA 94016      6   \n",
       "185948 2019-06-26 18:35:00    916 Main St, San Francisco, CA 94016      6   \n",
       "185949 2019-06-25 14:33:00          209 11th St, Atlanta, GA 30301      6   \n",
       "\n",
       "          Sales            City  Hour  \n",
       "0       1700.00   New York City     0  \n",
       "1        600.00   New York City     7  \n",
       "2         11.95   New York City    18  \n",
       "3        149.99   San Francisco    15  \n",
       "4         11.95         Atlanta    12  \n",
       "...         ...             ...   ...  \n",
       "185945     2.99          Boston    19  \n",
       "185946   149.99   New York City    19  \n",
       "185947    11.95   San Francisco    18  \n",
       "185948    11.95   San Francisco    18  \n",
       "185949     2.99         Atlanta    14  \n",
       "\n",
       "[185686 rows x 10 columns]"
      ]
     },
     "execution_count": 17,
     "metadata": {},
     "output_type": "execute_result"
    }
   ],
   "source": [
    "df_sales_Data.drop_duplicates()"
   ]
  },
  {
   "cell_type": "code",
   "execution_count": 18,
   "id": "2977c83d-631e-4816-bdae-ccd113e02c3b",
   "metadata": {},
   "outputs": [
    {
     "data": {
      "text/plain": [
       "0         141.666667\n",
       "1          50.000000\n",
       "2           0.995833\n",
       "3          12.499167\n",
       "4           0.995833\n",
       "             ...    \n",
       "185945      0.498333\n",
       "185946     24.998333\n",
       "185947      1.991667\n",
       "185948      1.991667\n",
       "185949      0.498333\n",
       "Length: 185950, dtype: float64"
      ]
     },
     "execution_count": 18,
     "metadata": {},
     "output_type": "execute_result"
    }
   ],
   "source": [
    "# Creating a new column 'Profit Margin ['profit margin'] \n",
    "df_sales_Data['Sales'] /df_sales_Data['Month']"
   ]
  },
  {
   "cell_type": "markdown",
   "id": "0f4f41fe-aa7b-4361-a36a-b12df4d0f49a",
   "metadata": {},
   "source": [
    "### Feature Engineering"
   ]
  },
  {
   "cell_type": "code",
   "execution_count": 19,
   "id": "4ba88f3b-a4c0-489f-ba2f-79c2a9e66507",
   "metadata": {},
   "outputs": [
    {
     "data": {
      "text/plain": [
       "0         1.0\n",
       "1         1.0\n",
       "2         1.0\n",
       "3         1.0\n",
       "4         1.0\n",
       "         ... \n",
       "185945    1.0\n",
       "185946    1.0\n",
       "185947    1.0\n",
       "185948    1.0\n",
       "185949    1.0\n",
       "Length: 185950, dtype: float64"
      ]
     },
     "execution_count": 19,
     "metadata": {},
     "output_type": "execute_result"
    }
   ],
   "source": [
    "# Creating a new column 'Sales per Unit' ['sales per Unit']\n",
    "df_sales_Data['Sales'] / df_sales_Data['Price Each']"
   ]
  },
  {
   "cell_type": "code",
   "execution_count": 20,
   "id": "c06315ce-3d25-4353-907f-615d0d95fd97",
   "metadata": {},
   "outputs": [
    {
     "data": {
      "text/plain": [
       "0         2019\n",
       "1         2019\n",
       "2         2019\n",
       "3         2019\n",
       "4         2019\n",
       "          ... \n",
       "185945    2019\n",
       "185946    2019\n",
       "185947    2019\n",
       "185948    2019\n",
       "185949    2019\n",
       "Name: Order Date, Length: 185950, dtype: int32"
      ]
     },
     "execution_count": 20,
     "metadata": {},
     "output_type": "execute_result"
    }
   ],
   "source": [
    "# Example: Extract year and month from 'Order Date'\n",
    "df_sales_Data['Order Date'].dt.year"
   ]
  },
  {
   "cell_type": "code",
   "execution_count": 21,
   "id": "460ee45a-29f8-4b19-ac84-eeb7f3bc3de0",
   "metadata": {},
   "outputs": [
    {
     "data": {
      "text/plain": [
       "0         12\n",
       "1         12\n",
       "2         12\n",
       "3         12\n",
       "4         12\n",
       "          ..\n",
       "185945     6\n",
       "185946     6\n",
       "185947     6\n",
       "185948     6\n",
       "185949     6\n",
       "Name: Order Date, Length: 185950, dtype: int32"
      ]
     },
     "execution_count": 21,
     "metadata": {},
     "output_type": "execute_result"
    }
   ],
   "source": [
    "df_sales_Data['Order Date'].dt.month"
   ]
  },
  {
   "cell_type": "markdown",
   "id": "dff155ef-b646-4cbe-92e7-fc0407dd27ab",
   "metadata": {},
   "source": [
    "### Handle Categorical Data"
   ]
  },
  {
   "cell_type": "code",
   "execution_count": 22,
   "id": "90fd499b-9026-4553-aaaf-fc9a3054ef92",
   "metadata": {},
   "outputs": [],
   "source": [
    "from sklearn.preprocessing import LabelEncoder\n"
   ]
  },
  {
   "cell_type": "code",
   "execution_count": 23,
   "id": "f9d663e0-1d29-45b6-bbf6-1559d7369f65",
   "metadata": {},
   "outputs": [
    {
     "data": {
      "text/plain": [
       "array([0, 0, 0, ..., 0, 0, 0], dtype=int64)"
      ]
     },
     "execution_count": 23,
     "metadata": {},
     "output_type": "execute_result"
    }
   ],
   "source": [
    "# Convert categorical data to numeric using Label Encoding or One-Hot Encoding\n",
    "# Label Encoding for 'Ship Mode' as it's ordinal (low, medium, high)\n",
    "\n",
    "label_encoder = LabelEncoder()\n",
    "label_encoder.fit_transform(df_sales_Data['Quantity Ordered'])"
   ]
  },
  {
   "cell_type": "code",
   "execution_count": 24,
   "id": "0000365f-d2b2-43b9-a00f-d2b3d25161f4",
   "metadata": {},
   "outputs": [
    {
     "data": {
      "text/plain": [
       "185950"
      ]
     },
     "execution_count": 24,
     "metadata": {},
     "output_type": "execute_result"
    }
   ],
   "source": [
    "# Do the authentic check\n",
    "len(df_sales_Data)"
   ]
  },
  {
   "cell_type": "markdown",
   "id": "a1009c59-c9e4-4e8d-9bbe-4b6e0aa6c8bd",
   "metadata": {},
   "source": [
    "## EDA (Exploratory Data Analysis)"
   ]
  },
  {
   "cell_type": "markdown",
   "id": "7c1783d8-7f1e-4eeb-966f-cbd249d6fc38",
   "metadata": {},
   "source": [
    "### Univariate Analysis\n",
    "When we take single column at a time for analytics, it is called univariate analysis"
   ]
  },
  {
   "cell_type": "code",
   "execution_count": 25,
   "id": "1f581279-656a-495f-984b-df8f563478b4",
   "metadata": {},
   "outputs": [
    {
     "data": {
      "text/html": [
       "<div>\n",
       "<style scoped>\n",
       "    .dataframe tbody tr th:only-of-type {\n",
       "        vertical-align: middle;\n",
       "    }\n",
       "\n",
       "    .dataframe tbody tr th {\n",
       "        vertical-align: top;\n",
       "    }\n",
       "\n",
       "    .dataframe thead th {\n",
       "        text-align: right;\n",
       "    }\n",
       "</style>\n",
       "<table border=\"1\" class=\"dataframe\">\n",
       "  <thead>\n",
       "    <tr style=\"text-align: right;\">\n",
       "      <th></th>\n",
       "      <th>Order ID</th>\n",
       "      <th>Product</th>\n",
       "      <th>Quantity Ordered</th>\n",
       "      <th>Price Each</th>\n",
       "      <th>Order Date</th>\n",
       "      <th>Purchase Address</th>\n",
       "      <th>Month</th>\n",
       "      <th>Sales</th>\n",
       "      <th>City</th>\n",
       "      <th>Hour</th>\n",
       "    </tr>\n",
       "  </thead>\n",
       "  <tbody>\n",
       "    <tr>\n",
       "      <th>0</th>\n",
       "      <td>295665</td>\n",
       "      <td>Macbook Pro Laptop</td>\n",
       "      <td>1</td>\n",
       "      <td>1700.00</td>\n",
       "      <td>2019-12-30 00:01:00</td>\n",
       "      <td>136 Church St, New York City, NY 10001</td>\n",
       "      <td>12</td>\n",
       "      <td>1700.00</td>\n",
       "      <td>New York City</td>\n",
       "      <td>0</td>\n",
       "    </tr>\n",
       "    <tr>\n",
       "      <th>1</th>\n",
       "      <td>295666</td>\n",
       "      <td>LG Washing Machine</td>\n",
       "      <td>1</td>\n",
       "      <td>600.00</td>\n",
       "      <td>2019-12-29 07:03:00</td>\n",
       "      <td>562 2nd St, New York City, NY 10001</td>\n",
       "      <td>12</td>\n",
       "      <td>600.00</td>\n",
       "      <td>New York City</td>\n",
       "      <td>7</td>\n",
       "    </tr>\n",
       "    <tr>\n",
       "      <th>2</th>\n",
       "      <td>295667</td>\n",
       "      <td>USB-C Charging Cable</td>\n",
       "      <td>1</td>\n",
       "      <td>11.95</td>\n",
       "      <td>2019-12-12 18:21:00</td>\n",
       "      <td>277 Main St, New York City, NY 10001</td>\n",
       "      <td>12</td>\n",
       "      <td>11.95</td>\n",
       "      <td>New York City</td>\n",
       "      <td>18</td>\n",
       "    </tr>\n",
       "    <tr>\n",
       "      <th>3</th>\n",
       "      <td>295668</td>\n",
       "      <td>27in FHD Monitor</td>\n",
       "      <td>1</td>\n",
       "      <td>149.99</td>\n",
       "      <td>2019-12-22 15:13:00</td>\n",
       "      <td>410 6th St, San Francisco, CA 94016</td>\n",
       "      <td>12</td>\n",
       "      <td>149.99</td>\n",
       "      <td>San Francisco</td>\n",
       "      <td>15</td>\n",
       "    </tr>\n",
       "    <tr>\n",
       "      <th>4</th>\n",
       "      <td>295669</td>\n",
       "      <td>USB-C Charging Cable</td>\n",
       "      <td>1</td>\n",
       "      <td>11.95</td>\n",
       "      <td>2019-12-18 12:38:00</td>\n",
       "      <td>43 Hill St, Atlanta, GA 30301</td>\n",
       "      <td>12</td>\n",
       "      <td>11.95</td>\n",
       "      <td>Atlanta</td>\n",
       "      <td>12</td>\n",
       "    </tr>\n",
       "  </tbody>\n",
       "</table>\n",
       "</div>"
      ],
      "text/plain": [
       "   Order ID               Product  Quantity Ordered  Price Each  \\\n",
       "0    295665    Macbook Pro Laptop                 1     1700.00   \n",
       "1    295666    LG Washing Machine                 1      600.00   \n",
       "2    295667  USB-C Charging Cable                 1       11.95   \n",
       "3    295668      27in FHD Monitor                 1      149.99   \n",
       "4    295669  USB-C Charging Cable                 1       11.95   \n",
       "\n",
       "           Order Date                        Purchase Address  Month    Sales  \\\n",
       "0 2019-12-30 00:01:00  136 Church St, New York City, NY 10001     12  1700.00   \n",
       "1 2019-12-29 07:03:00     562 2nd St, New York City, NY 10001     12   600.00   \n",
       "2 2019-12-12 18:21:00    277 Main St, New York City, NY 10001     12    11.95   \n",
       "3 2019-12-22 15:13:00     410 6th St, San Francisco, CA 94016     12   149.99   \n",
       "4 2019-12-18 12:38:00           43 Hill St, Atlanta, GA 30301     12    11.95   \n",
       "\n",
       "             City  Hour  \n",
       "0   New York City     0  \n",
       "1   New York City     7  \n",
       "2   New York City    18  \n",
       "3   San Francisco    15  \n",
       "4         Atlanta    12  "
      ]
     },
     "execution_count": 25,
     "metadata": {},
     "output_type": "execute_result"
    }
   ],
   "source": [
    "df_sales_Data.head()"
   ]
  },
  {
   "cell_type": "code",
   "execution_count": 26,
   "id": "0ac381a4-51d4-44b8-b6bf-cdf92136c40b",
   "metadata": {},
   "outputs": [],
   "source": [
    "# Segregate the data based on the data type\n",
    "# Categorical data\n",
    "df_cat = df_sales_Data.select_dtypes(include='object')\n",
    "\n",
    "# Numerical data\n",
    "df_num = df_sales_Data.select_dtypes(include='number')"
   ]
  },
  {
   "cell_type": "code",
   "execution_count": 27,
   "id": "294d14d1-cdaa-4509-b094-46bbec42c17b",
   "metadata": {},
   "outputs": [
    {
     "data": {
      "text/html": [
       "<div>\n",
       "<style scoped>\n",
       "    .dataframe tbody tr th:only-of-type {\n",
       "        vertical-align: middle;\n",
       "    }\n",
       "\n",
       "    .dataframe tbody tr th {\n",
       "        vertical-align: top;\n",
       "    }\n",
       "\n",
       "    .dataframe thead th {\n",
       "        text-align: right;\n",
       "    }\n",
       "</style>\n",
       "<table border=\"1\" class=\"dataframe\">\n",
       "  <thead>\n",
       "    <tr style=\"text-align: right;\">\n",
       "      <th></th>\n",
       "      <th>Product</th>\n",
       "      <th>Purchase Address</th>\n",
       "      <th>City</th>\n",
       "    </tr>\n",
       "  </thead>\n",
       "  <tbody>\n",
       "    <tr>\n",
       "      <th>0</th>\n",
       "      <td>Macbook Pro Laptop</td>\n",
       "      <td>136 Church St, New York City, NY 10001</td>\n",
       "      <td>New York City</td>\n",
       "    </tr>\n",
       "    <tr>\n",
       "      <th>1</th>\n",
       "      <td>LG Washing Machine</td>\n",
       "      <td>562 2nd St, New York City, NY 10001</td>\n",
       "      <td>New York City</td>\n",
       "    </tr>\n",
       "    <tr>\n",
       "      <th>2</th>\n",
       "      <td>USB-C Charging Cable</td>\n",
       "      <td>277 Main St, New York City, NY 10001</td>\n",
       "      <td>New York City</td>\n",
       "    </tr>\n",
       "    <tr>\n",
       "      <th>3</th>\n",
       "      <td>27in FHD Monitor</td>\n",
       "      <td>410 6th St, San Francisco, CA 94016</td>\n",
       "      <td>San Francisco</td>\n",
       "    </tr>\n",
       "    <tr>\n",
       "      <th>4</th>\n",
       "      <td>USB-C Charging Cable</td>\n",
       "      <td>43 Hill St, Atlanta, GA 30301</td>\n",
       "      <td>Atlanta</td>\n",
       "    </tr>\n",
       "  </tbody>\n",
       "</table>\n",
       "</div>"
      ],
      "text/plain": [
       "                Product                        Purchase Address  \\\n",
       "0    Macbook Pro Laptop  136 Church St, New York City, NY 10001   \n",
       "1    LG Washing Machine     562 2nd St, New York City, NY 10001   \n",
       "2  USB-C Charging Cable    277 Main St, New York City, NY 10001   \n",
       "3      27in FHD Monitor     410 6th St, San Francisco, CA 94016   \n",
       "4  USB-C Charging Cable           43 Hill St, Atlanta, GA 30301   \n",
       "\n",
       "             City  \n",
       "0   New York City  \n",
       "1   New York City  \n",
       "2   New York City  \n",
       "3   San Francisco  \n",
       "4         Atlanta  "
      ]
     },
     "execution_count": 27,
     "metadata": {},
     "output_type": "execute_result"
    }
   ],
   "source": [
    "# Categorical data\n",
    "df_cat.head()"
   ]
  },
  {
   "cell_type": "code",
   "execution_count": 28,
   "id": "ed6d48ab-2ef5-4ec2-8b62-70c295b58be2",
   "metadata": {},
   "outputs": [
    {
     "data": {
      "text/html": [
       "<div>\n",
       "<style scoped>\n",
       "    .dataframe tbody tr th:only-of-type {\n",
       "        vertical-align: middle;\n",
       "    }\n",
       "\n",
       "    .dataframe tbody tr th {\n",
       "        vertical-align: top;\n",
       "    }\n",
       "\n",
       "    .dataframe thead th {\n",
       "        text-align: right;\n",
       "    }\n",
       "</style>\n",
       "<table border=\"1\" class=\"dataframe\">\n",
       "  <thead>\n",
       "    <tr style=\"text-align: right;\">\n",
       "      <th></th>\n",
       "      <th>Order ID</th>\n",
       "      <th>Quantity Ordered</th>\n",
       "      <th>Price Each</th>\n",
       "      <th>Month</th>\n",
       "      <th>Sales</th>\n",
       "      <th>Hour</th>\n",
       "    </tr>\n",
       "  </thead>\n",
       "  <tbody>\n",
       "    <tr>\n",
       "      <th>0</th>\n",
       "      <td>295665</td>\n",
       "      <td>1</td>\n",
       "      <td>1700.00</td>\n",
       "      <td>12</td>\n",
       "      <td>1700.00</td>\n",
       "      <td>0</td>\n",
       "    </tr>\n",
       "    <tr>\n",
       "      <th>1</th>\n",
       "      <td>295666</td>\n",
       "      <td>1</td>\n",
       "      <td>600.00</td>\n",
       "      <td>12</td>\n",
       "      <td>600.00</td>\n",
       "      <td>7</td>\n",
       "    </tr>\n",
       "    <tr>\n",
       "      <th>2</th>\n",
       "      <td>295667</td>\n",
       "      <td>1</td>\n",
       "      <td>11.95</td>\n",
       "      <td>12</td>\n",
       "      <td>11.95</td>\n",
       "      <td>18</td>\n",
       "    </tr>\n",
       "    <tr>\n",
       "      <th>3</th>\n",
       "      <td>295668</td>\n",
       "      <td>1</td>\n",
       "      <td>149.99</td>\n",
       "      <td>12</td>\n",
       "      <td>149.99</td>\n",
       "      <td>15</td>\n",
       "    </tr>\n",
       "    <tr>\n",
       "      <th>4</th>\n",
       "      <td>295669</td>\n",
       "      <td>1</td>\n",
       "      <td>11.95</td>\n",
       "      <td>12</td>\n",
       "      <td>11.95</td>\n",
       "      <td>12</td>\n",
       "    </tr>\n",
       "  </tbody>\n",
       "</table>\n",
       "</div>"
      ],
      "text/plain": [
       "   Order ID  Quantity Ordered  Price Each  Month    Sales  Hour\n",
       "0    295665                 1     1700.00     12  1700.00     0\n",
       "1    295666                 1      600.00     12   600.00     7\n",
       "2    295667                 1       11.95     12    11.95    18\n",
       "3    295668                 1      149.99     12   149.99    15\n",
       "4    295669                 1       11.95     12    11.95    12"
      ]
     },
     "execution_count": 28,
     "metadata": {},
     "output_type": "execute_result"
    }
   ],
   "source": [
    "# Numerical data\n",
    "df_num.head()"
   ]
  },
  {
   "cell_type": "markdown",
   "id": "636f868f-d3cb-4efd-8bde-31ca67dcb76a",
   "metadata": {},
   "source": [
    "#### Univariate analysis on numerical data"
   ]
  },
  {
   "cell_type": "code",
   "execution_count": 29,
   "id": "5292fb70-a7b1-4fbe-ad69-17bbb8efb1f7",
   "metadata": {},
   "outputs": [
    {
     "data": {
      "text/plain": [
       "Index(['Order ID', 'Quantity Ordered', 'Price Each', 'Month', 'Sales', 'Hour'], dtype='object')"
      ]
     },
     "execution_count": 29,
     "metadata": {},
     "output_type": "execute_result"
    }
   ],
   "source": [
    "# Show the columns in the numerical data\n",
    "df_num.columns\n"
   ]
  },
  {
   "cell_type": "markdown",
   "id": "d5aefe13-e9e3-4639-a575-b51103cac296",
   "metadata": {},
   "source": [
    "#### Univariate Analysis on Categorical Data"
   ]
  },
  {
   "cell_type": "code",
   "execution_count": 30,
   "id": "ae4322b4-16f3-40cd-a9e9-66e2b05e984e",
   "metadata": {},
   "outputs": [
    {
     "data": {
      "text/html": [
       "<div>\n",
       "<style scoped>\n",
       "    .dataframe tbody tr th:only-of-type {\n",
       "        vertical-align: middle;\n",
       "    }\n",
       "\n",
       "    .dataframe tbody tr th {\n",
       "        vertical-align: top;\n",
       "    }\n",
       "\n",
       "    .dataframe thead th {\n",
       "        text-align: right;\n",
       "    }\n",
       "</style>\n",
       "<table border=\"1\" class=\"dataframe\">\n",
       "  <thead>\n",
       "    <tr style=\"text-align: right;\">\n",
       "      <th></th>\n",
       "      <th>Product</th>\n",
       "      <th>Purchase Address</th>\n",
       "      <th>City</th>\n",
       "    </tr>\n",
       "  </thead>\n",
       "  <tbody>\n",
       "    <tr>\n",
       "      <th>0</th>\n",
       "      <td>Macbook Pro Laptop</td>\n",
       "      <td>136 Church St, New York City, NY 10001</td>\n",
       "      <td>New York City</td>\n",
       "    </tr>\n",
       "    <tr>\n",
       "      <th>1</th>\n",
       "      <td>LG Washing Machine</td>\n",
       "      <td>562 2nd St, New York City, NY 10001</td>\n",
       "      <td>New York City</td>\n",
       "    </tr>\n",
       "    <tr>\n",
       "      <th>2</th>\n",
       "      <td>USB-C Charging Cable</td>\n",
       "      <td>277 Main St, New York City, NY 10001</td>\n",
       "      <td>New York City</td>\n",
       "    </tr>\n",
       "    <tr>\n",
       "      <th>3</th>\n",
       "      <td>27in FHD Monitor</td>\n",
       "      <td>410 6th St, San Francisco, CA 94016</td>\n",
       "      <td>San Francisco</td>\n",
       "    </tr>\n",
       "    <tr>\n",
       "      <th>4</th>\n",
       "      <td>USB-C Charging Cable</td>\n",
       "      <td>43 Hill St, Atlanta, GA 30301</td>\n",
       "      <td>Atlanta</td>\n",
       "    </tr>\n",
       "  </tbody>\n",
       "</table>\n",
       "</div>"
      ],
      "text/plain": [
       "                Product                        Purchase Address  \\\n",
       "0    Macbook Pro Laptop  136 Church St, New York City, NY 10001   \n",
       "1    LG Washing Machine     562 2nd St, New York City, NY 10001   \n",
       "2  USB-C Charging Cable    277 Main St, New York City, NY 10001   \n",
       "3      27in FHD Monitor     410 6th St, San Francisco, CA 94016   \n",
       "4  USB-C Charging Cable           43 Hill St, Atlanta, GA 30301   \n",
       "\n",
       "             City  \n",
       "0   New York City  \n",
       "1   New York City  \n",
       "2   New York City  \n",
       "3   San Francisco  \n",
       "4         Atlanta  "
      ]
     },
     "execution_count": 30,
     "metadata": {},
     "output_type": "execute_result"
    }
   ],
   "source": [
    "# show the data in categoical data fram \n",
    "df_cat.head()"
   ]
  },
  {
   "cell_type": "code",
   "execution_count": 31,
   "id": "716403ad-30ea-4170-9085-0ec3ecc64f1e",
   "metadata": {},
   "outputs": [
    {
     "data": {
      "text/plain": [
       "Index(['Product', 'Purchase Address', 'City'], dtype='object')"
      ]
     },
     "execution_count": 31,
     "metadata": {},
     "output_type": "execute_result"
    }
   ],
   "source": [
    "df_cat.columns"
   ]
  },
  {
   "cell_type": "markdown",
   "id": "3f2e9335-c764-4783-9b0c-5587db50dacc",
   "metadata": {},
   "source": [
    "#### Product"
   ]
  },
  {
   "cell_type": "code",
   "execution_count": 32,
   "id": "62d8a1ff-cc76-4bfa-8a53-1bc9989628b5",
   "metadata": {},
   "outputs": [
    {
     "data": {
      "text/plain": [
       "Product\n",
       "USB-C Charging Cable          21903\n",
       "Lightning Charging Cable      21658\n",
       "AAA Batteries (4-pack)        20641\n",
       "AA Batteries (4-pack)         20577\n",
       "Wired Headphones              18882\n",
       "Apple Airpods Headphones      15549\n",
       "Bose SoundSport Headphones    13325\n",
       "27in FHD Monitor               7507\n",
       "iPhone                         6842\n",
       "27in 4K Gaming Monitor         6230\n",
       "34in Ultrawide Monitor         6181\n",
       "Google Phone                   5525\n",
       "Flatscreen TV                  4800\n",
       "Macbook Pro Laptop             4724\n",
       "ThinkPad Laptop                4128\n",
       "20in Monitor                   4101\n",
       "Vareebadd Phone                2065\n",
       "LG Washing Machine              666\n",
       "LG Dryer                        646\n",
       "Name: count, dtype: int64"
      ]
     },
     "execution_count": 32,
     "metadata": {},
     "output_type": "execute_result"
    }
   ],
   "source": [
    "#Show the count of each category present in the product\n",
    "df_cat.Product.value_counts()"
   ]
  },
  {
   "cell_type": "code",
   "execution_count": 33,
   "id": "84e5d54c-1664-471b-8fad-7416f716b2be",
   "metadata": {},
   "outputs": [],
   "source": [
    "# this pie chart for example only"
   ]
  },
  {
   "cell_type": "code",
   "execution_count": 34,
   "id": "8fdb7357-3318-4ad1-b7dc-f03b34ffb248",
   "metadata": {},
   "outputs": [
    {
     "data": {
      "image/png": "[encoded data removed]",
      "text/plain": [
       "<Figure size 640x480 with 1 Axes>"
      ]
     },
     "metadata": {},
     "output_type": "display_data"
    }
   ],
   "source": [
    "# do the visulization of that count\n",
    "df_cat.Product.value_counts().plot(kind='pie',color='yellow')\n",
    "plt.xticks(rotation= 90)\n",
    "plt.title('count of product')\n",
    "plt.grid()\n",
    "plt.ylabel('count')\n",
    "plt.show()"
   ]
  },
  {
   "cell_type": "code",
   "execution_count": 35,
   "id": "00026d27-9033-4c42-a541-1717421ea50b",
   "metadata": {},
   "outputs": [
    {
     "data": {
      "image/png": "[encoded data removed]",
      "text/plain": [
       "<Figure size 640x480 with 1 Axes>"
      ]
     },
     "metadata": {},
     "output_type": "display_data"
    }
   ],
   "source": [
    "# Do the visulization of that count\n",
    "df_cat.Product.value_counts().plot(kind='bar',color='green')\n",
    "plt.xticks(rotation= 90)\n",
    "plt.title('count of Product')\n",
    "plt.grid()\n",
    "plt.ylabel('count')\n",
    "plt.show()"
   ]
  },
  {
   "cell_type": "code",
   "execution_count": 36,
   "id": "250bfed8-97b1-4a06-82b3-dbb564bdb922",
   "metadata": {},
   "outputs": [
    {
     "data": {
      "text/plain": [
       "Index(['Product', 'Purchase Address', 'City'], dtype='object')"
      ]
     },
     "execution_count": 36,
     "metadata": {},
     "output_type": "execute_result"
    }
   ],
   "source": [
    "df_cat.columns"
   ]
  },
  {
   "cell_type": "code",
   "execution_count": 37,
   "id": "7040243c-bfe7-42c3-b79f-f11faae7967c",
   "metadata": {},
   "outputs": [
    {
     "data": {
      "text/plain": [
       "City\n",
       "San Francisco    44732\n",
       "Los Angeles      29605\n",
       "New York City    24876\n",
       "Boston           19934\n",
       "Atlanta          14881\n",
       "Dallas           14820\n",
       "Seattle          14732\n",
       "Portland         12465\n",
       "Austin            9905\n",
       "Name: count, dtype: int64"
      ]
     },
     "execution_count": 37,
     "metadata": {},
     "output_type": "execute_result"
    }
   ],
   "source": [
    "# show the count of city avallable\n",
    "df_cat.City.value_counts()"
   ]
  },
  {
   "cell_type": "code",
   "execution_count": 38,
   "id": "f3a9faf0-77a9-4425-a6a2-9dc808261cc4",
   "metadata": {},
   "outputs": [
    {
     "data": {
      "image/png": "[encoded data removed]",
      "text/plain": [
       "<Figure size 640x480 with 1 Axes>"
      ]
     },
     "metadata": {},
     "output_type": "display_data"
    }
   ],
   "source": [
    "# Do the visualization of the count\n",
    "df_cat.City.value_counts().plot(kind='bar',color= 'green')\n",
    "plt.xticks(rotation= 90)\n",
    "plt.title('count of City')\n",
    "plt.grid()\n",
    "plt.ylabel('count')\n",
    "plt.show()"
   ]
  },
  {
   "cell_type": "code",
   "execution_count": null,
   "id": "b082febf-2516-4cfa-acfd-d8dbfd315ac5",
   "metadata": {},
   "outputs": [],
   "source": [
    "df_cat.columns"
   ]
  },
  {
   "cell_type": "code",
   "execution_count": null,
   "id": "c8205be0-8979-4f34-ae22-e40fb134409d",
   "metadata": {},
   "outputs": [],
   "source": [
    "# Do the visulization of the count\n",
    "df_cat['Purchase Address'].value_counts().plot(kind='bar')\n",
    "plt.xticks(rotation=90)\n",
    "plt.title('Purchase Address')\n",
    "plt.grid()\n",
    "plt.ylabel('count')\n",
    "plt.show()"
   ]
  },
  {
   "cell_type": "markdown",
   "id": "4c7a7803-7552-4a0a-a436-6dde1ee37610",
   "metadata": {},
   "source": [
    "### Bivariate Analysis"
   ]
  },
  {
   "cell_type": "code",
   "execution_count": null,
   "id": "4db6720f-b875-4087-be82-21d17be0163d",
   "metadata": {},
   "outputs": [],
   "source": [
    "# show the first 5 observation of the data.\n",
    "df_num.head()"
   ]
  },
  {
   "cell_type": "code",
   "execution_count": null,
   "id": "7d97380a-f6b5-4e15-9f43-e912b32f8580",
   "metadata": {},
   "outputs": [],
   "source": [
    "# to find the pairs in Bivariate Analysis, we have to use following step.\n",
    "# Step 1: Find the correlation\n",
    "df_num.corr()"
   ]
  },
  {
   "cell_type": "markdown",
   "id": "b21381ae-42cb-43df-95a5-cb6bfa39061e",
   "metadata": {},
   "source": [
    "#### Quantity Ordered, Month"
   ]
  },
  {
   "cell_type": "code",
   "execution_count": null,
   "id": "e0757e13-2b20-4ec7-aefc-4edd2540d709",
   "metadata": {},
   "outputs": [],
   "source": [
    "sns.scatterplot(x='Quantity Ordered',y='Month',data=df_num,color='red')\n",
    "plt.title('Scatter plot between Quantity Ordered and Month')\n",
    "plt.show()"
   ]
  },
  {
   "cell_type": "markdown",
   "id": "4879f256-ee64-4b7b-ad2c-3eae09529a47",
   "metadata": {},
   "source": [
    "#### Sales,Hour"
   ]
  },
  {
   "cell_type": "code",
   "execution_count": null,
   "id": "3302f96d-7f51-4d9f-bed4-8729f1d08c2e",
   "metadata": {},
   "outputs": [],
   "source": [
    "sns.scatterplot(x='Sales',y='Hour',data=df_num)\n",
    "plt.title('scatter plot between Sales and Hour')\n",
    "plt.show()"
   ]
  },
  {
   "cell_type": "markdown",
   "id": "ae084dd8-338a-4bb2-aa58-5eb5e30a132d",
   "metadata": {},
   "source": [
    "#### Price Each, Sales"
   ]
  },
  {
   "cell_type": "code",
   "execution_count": null,
   "id": "2dbac80f-6e0e-4c3c-a114-c0d3b108b915",
   "metadata": {},
   "outputs": [],
   "source": [
    "sns.scatterplot(x='Price Each' , y='Sales',data=df_num, color='purple')\n",
    "plt.title('scatter plot between Price Each and sales')\n",
    "plt.show()"
   ]
  },
  {
   "cell_type": "markdown",
   "id": "1add16db-216f-4814-884f-d180ce3bab1f",
   "metadata": {},
   "source": [
    "#### Quantity Ordered, Sales"
   ]
  },
  {
   "cell_type": "code",
   "execution_count": null,
   "id": "052b3086-fc3c-4745-89f3-f91901b77125",
   "metadata": {},
   "outputs": [],
   "source": [
    "sns.scatterplot(x= 'Quantity Ordered' , y='Sales' , data=df_num, color='purple')\n",
    "plt.title('Scatter plot between Quantity Ordered and Sales')\n",
    "plt.show()\n",
    "                "
   ]
  },
  {
   "cell_type": "code",
   "execution_count": null,
   "id": "61db7141-9ae2-467e-8ed6-c9f9d1926ba0",
   "metadata": {},
   "outputs": [],
   "source": [
    "# find the pairs having strong positive or negative relation\n",
    "# ( Air_Quality,Distance)"
   ]
  },
  {
   "cell_type": "code",
   "execution_count": null,
   "id": "92cca60d-98b4-4691-a9c6-b01f194fc8ed",
   "metadata": {},
   "outputs": [],
   "source": [
    "df_cat.head()"
   ]
  },
  {
   "cell_type": "code",
   "execution_count": null,
   "id": "46e20c68-a3f2-42b4-8b9e-5e3756a778c7",
   "metadata": {},
   "outputs": [],
   "source": [
    "# Quantity Ordered, Sales"
   ]
  },
  {
   "cell_type": "code",
   "execution_count": null,
   "id": "c7adcd95-bf40-477b-8161-d9acae69d821",
   "metadata": {},
   "outputs": [],
   "source": [
    "# visulize the group\n",
    "#- when we have only 1 categorical column ---> we are going to plot count plot\n",
    "#- when we have 1 numerical column --> we are going to histogram or KDE plot(kernal)density plot\n",
    "#- when we have 1 numerical and 1 categorical column --> we are going to plot the Bar graph"
   ]
  },
  {
   "cell_type": "code",
   "execution_count": null,
   "id": "20b81414-1724-4001-bfbb-fc4e758f663b",
   "metadata": {},
   "outputs": [],
   "source": [
    "# visualize the graph\n",
    "sns.barplot(x='Quantity Ordered',y='Sales', data=df_sales_Data,color='skyblue')\n",
    "plt.title('Quantity Ordered vs Sales')\n",
    "plt.grid()\n",
    "plt.show()"
   ]
  },
  {
   "cell_type": "code",
   "execution_count": null,
   "id": "942557e5-c888-4551-a056-e6bca55471fc",
   "metadata": {},
   "outputs": [],
   "source": [
    "sns.barplot(x='Quantity Ordered',y='Month', data=df_sales_Data,color='skyblue')\n",
    "plt.title('Quantity Ordered vs Month')\n",
    "plt.grid()\n",
    "plt.show()"
   ]
  },
  {
   "cell_type": "code",
   "execution_count": null,
   "id": "3571a418-ef32-4d87-8f14-7849643bc6f6",
   "metadata": {},
   "outputs": [],
   "source": [
    "sns.barplot(x='Quantity Ordered',y='Hour', data=df_sales_Data,color='skyblue')\n",
    "plt.title('Quantity Ordered vs Hour')\n",
    "plt.grid()\n",
    "plt.show()"
   ]
  },
  {
   "cell_type": "code",
   "execution_count": null,
   "id": "53e1c931-0529-4359-a1ee-588fbfeef7bf",
   "metadata": {},
   "outputs": [],
   "source": [
    "sns.barplot(x='Price Each',y='Sales', data=df_sales_Data,color='skyblue')\n",
    "plt.title('Price Each vs Sales')\n",
    "plt.grid()\n",
    "plt.xticks(rotation= 90)\n",
    "plt.show()"
   ]
  },
  {
   "cell_type": "markdown",
   "id": "16efc2df-87a5-4727-9e90-71bc0a4bc8cf",
   "metadata": {},
   "source": [
    "### Multivariate Analysis"
   ]
  },
  {
   "cell_type": "code",
   "execution_count": null,
   "id": "55432b4b-54fe-4d8a-80c1-ae6f04f00139",
   "metadata": {},
   "outputs": [],
   "source": [
    "when we took more than two columns at a time for analysis is called multivariate analysis.\n",
    "for multivariate analysis we need to have combination 2 categorical columns and 1 numerical columns.\n"
   ]
  },
  {
   "cell_type": "code",
   "execution_count": null,
   "id": "40bc1ec4-07c7-4281-a32c-63c2b16b987a",
   "metadata": {},
   "outputs": [],
   "source": [
    "# Categorical Columns: Product, City\n",
    "# Numerical columns: Quantity Ordered, Sales"
   ]
  },
  {
   "cell_type": "code",
   "execution_count": null,
   "id": "3548d1df-00ef-410e-a70a-f7fb612df6b2",
   "metadata": {},
   "outputs": [],
   "source": [
    "# Approach to find the code \n",
    "dir(pd)"
   ]
  },
  {
   "cell_type": "code",
   "execution_count": null,
   "id": "6e360e5a-be74-49e4-be33-a9e3585dd4d8",
   "metadata": {},
   "outputs": [],
   "source": [
    "# find the correct syntax \n",
    "pd.crosstab?"
   ]
  },
  {
   "cell_type": "code",
   "execution_count": null,
   "id": "afbe488b-bcc8-4600-9114-7e125544e830",
   "metadata": {},
   "outputs": [],
   "source": [
    "# Draw the syntax \n",
    "pd.crosstab(index=df_sales_Data['Product'], columns=df_sales_Data['City'], values=df_sales_Data['Sales'], aggfunc='min')"
   ]
  },
  {
   "cell_type": "code",
   "execution_count": null,
   "id": "b792aca4-a7a3-4b93-9344-da10470eee80",
   "metadata": {},
   "outputs": [],
   "source": [
    "pd.crosstab(index=df_sales_Data['Product'], columns=df_sales_Data['City'], values=df_sales_Data['Sales'], aggfunc='max')"
   ]
  },
  {
   "cell_type": "code",
   "execution_count": null,
   "id": "2171153a-1ea0-40af-971d-d19331539f07",
   "metadata": {},
   "outputs": [],
   "source": [
    "pd.crosstab(index=df_sales_Data['Product'], columns=df_sales_Data['City'], values=df_sales_Data['Sales'], aggfunc='mean')"
   ]
  },
  {
   "cell_type": "code",
   "execution_count": null,
   "id": "9042a549-25db-440d-841f-51e67a05030d",
   "metadata": {},
   "outputs": [],
   "source": [
    "pd.crosstab(index=df_sales_Data['Product'], columns=df_sales_Data['City'], values=df_sales_Data['Price Each'], aggfunc='min')"
   ]
  },
  {
   "cell_type": "code",
   "execution_count": null,
   "id": "c1fcc4ba-f9ba-418c-870d-662ca82609dc",
   "metadata": {},
   "outputs": [],
   "source": [
    "pd.crosstab(index=df_sales_Data['Product'], columns=df_sales_Data['City'], values=df_sales_Data['Price Each'], aggfunc='max')"
   ]
  },
  {
   "cell_type": "code",
   "execution_count": null,
   "id": "9b906d17-ece3-45dc-bd20-3ffc05b95f6f",
   "metadata": {},
   "outputs": [],
   "source": [
    "pd.crosstab(index=df_sales_Data['Product'], columns=df_sales_Data['City'], values=df_sales_Data['Price Each'], aggfunc='mean')"
   ]
  },
  {
   "cell_type": "code",
   "execution_count": null,
   "id": "90417e67-d78a-4416-ad11-fe3dc5b0bc9e",
   "metadata": {},
   "outputs": [],
   "source": [
    "# Line chart for Sales and Profit by months\n",
    "import seaborn as sns\n",
    "\n",
    "df_sales_Data['Year'] =df_sales_Data['Order Date'].dt.year\n",
    "df_sales_Data['Month'] =df_sales_Data['Order Date'].dt.month\n",
    "df_sales_Data['Weekday'] =df_sales_Data['Order Date'].dt.day_name()\n",
    "\n",
    "monthly_sales = df_sales_Data.groupby(['Year', 'Month'])['Sales'].sum().reset_index()\n",
    "\n",
    "# Convert Year and Month to a datetime format\n",
    "monthly_sales['YearMonth'] = pd.to_datetime(monthly_sales['Year'].astype(str) + '-' + monthly_sales['Month'].astype(str))\n",
    "\n",
    "# Yearly trend plot\n",
    "plt.figure(figsize=(14, 7))\n",
    "sns.lineplot(data=monthly_sales, x='YearMonth', y='Sales', marker='o', label='Monthly Sales')\n",
    "plt.title('Monthly Sales Trend', fontsize=16)\n",
    "plt.xlabel('Time', fontsize=12)\n",
    "plt.ylabel('Sales', fontsize=12)\n",
    "plt.legend()\n",
    "plt.grid()\n",
    "plt.show()"
   ]
  },
  {
   "cell_type": "code",
   "execution_count": null,
   "id": "c5237da4-de43-4dae-9d0c-2c1d29e7739e",
   "metadata": {},
   "outputs": [],
   "source": []
  }
 ],
 "metadata": {
  "kernelspec": {
   "display_name": "Python 3 (ipykernel)",
   "language": "python",
   "name": "python3"
  },
  "language_info": {
   "codemirror_mode": {
    "name": "ipython",
    "version": 3
   },
   "file_extension": ".py",
   "mimetype": "text/x-python",
   "name": "python",
   "nbconvert_exporter": "python",
   "pygments_lexer": "ipython3",
   "version": "3.12.7"
  }
 },
 "nbformat": 4,
 "nbformat_minor": 5
}
